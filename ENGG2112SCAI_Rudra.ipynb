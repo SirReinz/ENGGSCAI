{
  "cells": [
    {
      "cell_type": "markdown",
      "metadata": {
        "colab_type": "text",
        "id": "view-in-github"
      },
      "source": [
        "<a href=\"https://colab.research.google.com/github/SirReinz/ENGGSCAI/blob/Rudra/ENGG2112SCAI_Rudra.ipynb\" target=\"_parent\"><img src=\"https://colab.research.google.com/assets/colab-badge.svg\" alt=\"Open In Colab\"/></a>"
      ]
    },
    {
      "cell_type": "code",
      "execution_count": 1,
      "metadata": {
        "id": "I4njNvcGWkgt"
      },
      "outputs": [],
      "source": [
        "import numpy as np\n",
        "import pandas as pd\n",
        "import matplotlib.pyplot as plt\n",
        "from sklearn.model_selection import train_test_split\n",
        "from PIL import Image\n",
        "import kagglehub\n",
        "import os\n",
        "from google.colab import userdata"
      ]
    },
    {
      "cell_type": "markdown",
      "metadata": {
        "id": "GK7D5AE1we1-"
      },
      "source": [
        "# ISIC Data"
      ]
    },
    {
      "cell_type": "code",
      "execution_count": null,
      "metadata": {
        "colab": {
          "base_uri": "https://localhost:8080/"
        },
        "id": "tLwq_2V1gM6Z",
        "outputId": "ed647730-ae06-4be6-fdde-6fec9f0bf3b5"
      },
      "outputs": [
        {
          "name": "stdout",
          "output_type": "stream",
          "text": [
            "Using Colab cache for faster access to the 'skin-cancer9-classesisic' dataset.\n",
            "/kaggle/input/skin-cancer9-classesisic\n"
          ]
        }
      ],
      "source": [
        "# import datasets\n",
        "ISIC = kagglehub.dataset_download(\"nodoubttome/skin-cancer9-classesisic\")\n",
        "print(ISIC)\n"
      ]
    },
    {
      "cell_type": "code",
      "execution_count": null,
      "metadata": {
        "colab": {
          "base_uri": "https://localhost:8080/"
        },
        "id": "8NmxEJQNh1m_",
        "outputId": "1eac9c9c-1fbd-42a9-bb54-2344b60affda"
      },
      "outputs": [
        {
          "name": "stdout",
          "output_type": "stream",
          "text": [
            "Found CSV files:\n",
            "No CSV files found. This might be an image-only dataset.\n",
            "Created DataFrame from image files: (100, 1)\n",
            "                                          image_path\n",
            "0  /kaggle/input/skin-cancer9-classesisic/Skin ca...\n",
            "1  /kaggle/input/skin-cancer9-classesisic/Skin ca...\n",
            "2  /kaggle/input/skin-cancer9-classesisic/Skin ca...\n",
            "3  /kaggle/input/skin-cancer9-classesisic/Skin ca...\n",
            "4  /kaggle/input/skin-cancer9-classesisic/Skin ca...\n"
          ]
        }
      ],
      "source": [
        "# Load dataset into pandas DataFrame\n",
        "# This skin cancer dataset typically contains CSV files with metadata and image paths\n",
        "\n",
        "# Look for CSV files\n",
        "csv_files = []\n",
        "for root, dirs, files in os.walk(ISIC):\n",
        "    for file in files:\n",
        "        if file.endswith('.csv'):\n",
        "            csv_files.append(os.path.join(root, file))\n",
        "\n",
        "print(\"Found CSV files:\")\n",
        "for csv_file in csv_files:\n",
        "    print(f\"- {csv_file}\")\n",
        "\n",
        "# Load the main dataset CSV (usually contains metadata)\n",
        "if csv_files:\n",
        "    # Load the first CSV file found\n",
        "    df = pd.read_csv(csv_files[0])\n",
        "    print(f\"\\nLoaded dataset shape: {df.shape}\")\n",
        "    print(f\"Columns: {list(df.columns)}\")\n",
        "    print(\"\\nFirst few rows:\")\n",
        "    print(df.head())\n",
        "else:\n",
        "    print(\"No CSV files found. This might be an image-only dataset.\")\n",
        "    # In this case, you might need to create a DataFrame from image filenames\n",
        "    image_files = []\n",
        "    for root, dirs, files in os.walk(ISIC):\n",
        "        for file in files:\n",
        "            if file.lower().endswith(('.jpg', '.jpeg', '.png')):\n",
        "                image_files.append(os.path.join(root, file))\n",
        "\n",
        "    if image_files:\n",
        "        df = pd.DataFrame({'image_path': image_files[:100]})  # Sample first 100 images\n",
        "        print(f\"Created DataFrame from image files: {df.shape}\")\n",
        "        print(df.head())"
      ]
    },
    {
      "cell_type": "code",
      "execution_count": null,
      "metadata": {
        "id": "1VvSVQBHh1m_"
      },
      "outputs": [],
      "source": [
        "# If you have a specific CSV file you want to load, you can do:\n",
        "# df = pd.read_csv(os.path.join(ISIC, 'specific_file.csv'))\n",
        "\n",
        "# For image classification datasets, you might also want to:\n",
        "# 1. Extract class labels from folder names or file paths\n",
        "# 2. Create image loading functions\n",
        "# 3. Prepare data for machine learning models\n",
        "\n",
        "# Example: If images are organized in class folders\n",
        "def create_image_dataframe(dataset_path):\n",
        "    \"\"\"Create a DataFrame with image paths and labels from folder structure\"\"\"\n",
        "    data = []\n",
        "\n",
        "    for root, dirs, files in os.walk(dataset_path):\n",
        "        # Skip the root directory\n",
        "        if root == dataset_path:\n",
        "            continue\n",
        "\n",
        "        # Get class name from folder name\n",
        "        class_name = os.path.basename(root)\n",
        "\n",
        "        for file in files:\n",
        "            if file.lower().endswith(('.jpg', '.jpeg', '.png')):\n",
        "                full_path = os.path.join(root, file)\n",
        "                data.append({\n",
        "                    'image_path': full_path,\n",
        "                    'class': class_name,\n",
        "                    'filename': file\n",
        "                })\n",
        "\n",
        "    return pd.DataFrame(data)\n",
        "\n",
        "# Try to create DataFrame from folder structure\n",
        "try:\n",
        "    image_df = create_image_dataframe(ISIC)\n",
        "    if not image_df.empty:\n",
        "        pass\n",
        "        # print(f\"Created image DataFrame: {image_df.shape}\")\n",
        "        # print(f\"Classes found: {image_df['class'].unique()}\")\n",
        "        # print(\"\\nSample data:\")\n",
        "        # print(image_df.head())\n",
        "\n",
        "        # # Show class distribution\n",
        "        # print(\"\\nClass distribution:\")\n",
        "        # print(image_df['class'].value_counts())\n",
        "except Exception as e:\n",
        "    print(f\"Could not create image DataFrame: {e}\")"
      ]
    },
    {
      "cell_type": "code",
      "execution_count": null,
      "metadata": {
        "colab": {
          "base_uri": "https://localhost:8080/",
          "height": 125
        },
        "id": "44b4b4a9",
        "outputId": "1b6158d7-b5c1-404c-ef73-1e78f03b60ba"
      },
      "outputs": [
        {
          "name": "stdout",
          "output_type": "stream",
          "text": [
            "Training set size: 1649\n",
            "Testing set size: 708\n"
          ]
        },
        {
          "data": {
            "application/vnd.google.colaboratory.intrinsic+json": {
              "type": "string"
            },
            "text/plain": [
              "'\\nnum_random_train_samples = 300  # Adjust this number as needed\\nX_train = X_train.sample(n=num_random_train_samples, random_state=42)\\n# Get the corresponding labels for the sampled images\\ny_train = y_train.loc[X_train.index]\\n\\nnum_random_test_samples = 100  # Adjust this number as needed\\nX_test = X_test.sample(n=num_random_test_samples, random_state=42)\\n# Get the corresponding labels for the sampled images\\ny_test = y_test.loc[X_test.index]\\n'"
            ]
          },
          "execution_count": 17,
          "metadata": {},
          "output_type": "execute_result"
        }
      ],
      "source": [
        "X = image_df['image_path']\n",
        "y = image_df['class']\n",
        "\n",
        "# Split the data into training and testing sets\n",
        "X_train, X_test, y_train, y_test = train_test_split(X, y, test_size=0.3, random_state=42, stratify=y)\n",
        "\n",
        "print(\"Training set size:\", len(X_train))\n",
        "print(\"Testing set size:\", len(X_test))\n",
        "\"\"\"\n",
        "num_random_train_samples = 300  # Adjust this number as needed\n",
        "X_train = X_train.sample(n=num_random_train_samples, random_state=42)\n",
        "# Get the corresponding labels for the sampled images\n",
        "y_train = y_train.loc[X_train.index]\n",
        "\n",
        "num_random_test_samples = 100  # Adjust this number as needed\n",
        "X_test = X_test.sample(n=num_random_test_samples, random_state=42)\n",
        "# Get the corresponding labels for the sampled images\n",
        "y_test = y_test.loc[X_test.index]\n",
        "\"\"\"\n"
      ]
    },
    {
      "cell_type": "code",
      "execution_count": null,
      "metadata": {
        "colab": {
          "base_uri": "https://localhost:8080/"
        },
        "id": "1cf32179",
        "outputId": "a8b1b26b-5785-4662-8f22-0fcaa1b2ae50"
      },
      "outputs": [
        {
          "name": "stdout",
          "output_type": "stream",
          "text": [
            "Processing training images...\n",
            "Processing testing images...\n"
          ]
        }
      ],
      "source": [
        "# Define the target size for resizing images\n",
        "target_size = (128, 128)\n",
        "\n",
        "def load_and_flatten_image(image_path, target_size):\n",
        "    \"\"\"Loads an image, resizes it, and flattens it into a 1D array.\"\"\"\n",
        "    try:\n",
        "        img = Image.open(image_path).convert('RGB') # Ensure image is in RGB format\n",
        "        img = img.resize(target_size)\n",
        "        img_array = np.array(img)\n",
        "        # Flatten the array: (height, width, channels) -> (height * width * channels,)\n",
        "        flattened_array = img_array.flatten()\n",
        "        return flattened_array\n",
        "    except Exception as e:\n",
        "        print(f\"Error loading or processing image {image_path}: {e}\")\n",
        "        return None # Return None if there's an error\n",
        "\n",
        "# Apply the function to your training and testing image paths\n",
        "# This might take some time depending on the number of images\n",
        "print(\"Processing training images...\")\n",
        "X_train_processed = np.array([load_and_flatten_image(path, target_size) for path in X_train if load_and_flatten_image(path, target_size) is not None])\n",
        "\n",
        "print(\"Processing testing images...\")\n",
        "X_test_processed = np.array([load_and_flatten_image(path, target_size) for path in X_test if load_and_flatten_image(path, target_size) is not None])\n"
      ]
    },
    {
      "cell_type": "code",
      "execution_count": null,
      "metadata": {
        "id": "U5rwmWdfhvG8"
      },
      "outputs": [],
      "source": [
        "from sklearn.preprocessing import StandardScaler\n",
        "from sklearn.pipeline import Pipeline\n",
        "from sklearn.neural_network import MLPClassifier\n",
        "pipeline = Pipeline([\n",
        "('scaler', StandardScaler()),\n",
        "('mlp', MLPClassifier(hidden_layer_sizes=(100,), activation='relu',\n",
        "solver='adam', max_iter=20000))\n",
        "])\n",
        "#Fit\n",
        "pipeline.fit(X_train_processed, y_train)\n",
        "#Get predictions\n",
        "y_pred = pipeline.predict(X_test_processed)"
      ]
    },
    {
      "cell_type": "code",
      "execution_count": null,
      "metadata": {
        "colab": {
          "base_uri": "https://localhost:8080/"
        },
        "id": "354ccaaf",
        "outputId": "78e2c2f6-36b4-4b56-e00f-8119cbe8f997"
      },
      "outputs": [
        {
          "name": "stdout",
          "output_type": "stream",
          "text": [
            "Accuracy: 0.4308\n",
            "\n",
            "Classification Report:\n",
            "                            precision    recall  f1-score   support\n",
            "\n",
            "         actinic keratosis       0.03      0.03      0.03        39\n",
            "      basal cell carcinoma       0.48      0.61      0.54       118\n",
            "            dermatofibroma       0.31      0.33      0.32        33\n",
            "                  melanoma       0.48      0.41      0.44       136\n",
            "                     nevus       0.50      0.37      0.42       112\n",
            "pigmented benign keratosis       0.54      0.57      0.55       144\n",
            "      seborrheic keratosis       0.10      0.12      0.11        24\n",
            "   squamous cell carcinoma       0.37      0.32      0.35        59\n",
            "           vascular lesion       0.35      0.47      0.40        43\n",
            "\n",
            "                  accuracy                           0.43       708\n",
            "                 macro avg       0.35      0.36      0.35       708\n",
            "              weighted avg       0.43      0.43      0.43       708\n",
            "\n"
          ]
        }
      ],
      "source": [
        "from sklearn.metrics import accuracy_score, classification_report\n",
        "\n",
        "# Assuming y_test contains the true labels for the test set\n",
        "# and y_pred contains the predictions from your model on the test set\n",
        "\n",
        "# Calculate the accuracy score\n",
        "accuracy = accuracy_score(y_test, y_pred)\n",
        "print(f\"Accuracy: {accuracy:.4f}\")\n",
        "\n",
        "# Generate a classification report for more detailed metrics (precision, recall, f1-score)\n",
        "print(\"\\nClassification Report:\")\n",
        "print(classification_report(y_test, y_pred))"
      ]
    },
    {
      "cell_type": "markdown",
      "metadata": {
        "id": "F5cu_PeXvAvC"
      },
      "source": [
        "# SIIM ISIC Data"
      ]
    },
    {
      "cell_type": "code",
      "execution_count": 2,
      "metadata": {
        "colab": {
          "base_uri": "https://localhost:8080/"
        },
        "id": "1js74KT0vxzS",
        "outputId": "0321b5a1-7b7f-4a09-beb2-26f78a7e33b0"
      },
      "outputs": [
        {
          "name": "stdout",
          "output_type": "stream",
          "text": [
            "Downloading from https://www.kaggle.com/api/v1/datasets/download/nischaydnk/isic-2020-jpg-256x256-resized?dataset_version_number=1...\n"
          ]
        },
        {
          "name": "stderr",
          "output_type": "stream",
          "text": [
            "100%|██████████| 595M/595M [00:04<00:00, 140MB/s]"
          ]
        },
        {
          "name": "stdout",
          "output_type": "stream",
          "text": [
            "Extracting files...\n"
          ]
        },
        {
          "name": "stderr",
          "output_type": "stream",
          "text": [
            "\n"
          ]
        },
        {
          "name": "stdout",
          "output_type": "stream",
          "text": [
            "ISIC 2020 (256x256) dataset downloaded to: /root/.cache/kagglehub/datasets/nischaydnk/isic-2020-jpg-256x256-resized/versions/1\n"
          ]
        }
      ],
      "source": [
        "# Download the ISIC 2020 resized dataset (256x256)\n",
        "ISIC_2020 = kagglehub.dataset_download(\"nischaydnk/isic-2020-jpg-256x256-resized\")\n",
        "print(\"ISIC 2020 (256x256) dataset downloaded to:\", ISIC_2020)"
      ]
    },
    {
      "cell_type": "code",
      "execution_count": 3,
      "metadata": {
        "colab": {
          "base_uri": "https://localhost:8080/"
        },
        "id": "7Obu2frcycxz",
        "outputId": "60b6d805-3fba-4515-b875-5cd2d0854edf"
      },
      "outputs": [
        {
          "name": "stdout",
          "output_type": "stream",
          "text": [
            "Dataset location: /root/.cache/kagglehub/datasets/nischaydnk/isic-2020-jpg-256x256-resized/versions/1\n",
            "\n",
            "Files and folders in the dataset:\n",
            "1/\n",
            "  train-metadata.csv\n",
            "  .ipynb_checkpoints/\n",
            "    dataset-metadata-checkpoint.json\n",
            "  train-image/\n",
            "    image/\n",
            "      ISIC_9023880.jpg\n",
            "      ISIC_4610204.jpg\n",
            "      ISIC_7544537.jpg\n",
            "      ISIC_3114066.jpg\n",
            "      ISIC_2811348.jpg\n",
            "      ... and 33121 more files\n"
          ]
        }
      ],
      "source": [
        "# Explore the downloaded dataset structure\n",
        "print(\"Dataset location:\", ISIC_2020)\n",
        "print(\"\\nFiles and folders in the dataset:\")\n",
        "for root, dirs, files in os.walk(ISIC_2020):\n",
        "    level = root.replace(ISIC_2020, '').count(os.sep)\n",
        "    indent = ' ' * 2 * level\n",
        "    print(f\"{indent}{os.path.basename(root)}/\")\n",
        "    subindent = ' ' * 2 * (level + 1)\n",
        "    for file in files[:5]:  # Show first 5 files in each directory\n",
        "        print(f\"{subindent}{file}\")\n",
        "    if len(files) > 5:\n",
        "        print(f\"{subindent}... and {len(files)-5} more files\")"
      ]
    },
    {
      "cell_type": "code",
      "execution_count": 4,
      "metadata": {
        "colab": {
          "base_uri": "https://localhost:8080/"
        },
        "id": "nxDjt36SzAvt",
        "outputId": "27542702-5f25-408b-cffb-0ac8e6c457dc"
      },
      "outputs": [
        {
          "name": "stdout",
          "output_type": "stream",
          "text": [
            "Found CSV files:\n",
            "- /root/.cache/kagglehub/datasets/nischaydnk/isic-2020-jpg-256x256-resized/versions/1/train-metadata.csv\n",
            "\n",
            "Loaded dataset shape: (33126, 4)\n",
            "Columns: ['Unnamed: 0', 'isic_id', 'patient_id', 'target']\n",
            "\n",
            "First few rows:\n",
            "   Unnamed: 0       isic_id  patient_id  target\n",
            "0           0  ISIC_2637011  IP_7279968       0\n",
            "1           1  ISIC_0015719  IP_3075186       0\n",
            "2           2  ISIC_0052212  IP_2842074       0\n",
            "3           3  ISIC_0068279  IP_6890425       0\n",
            "4           4  ISIC_0074268  IP_8723313       0\n"
          ]
        }
      ],
      "source": [
        "csv_files = []\n",
        "for root, dirs, files in os.walk(ISIC_2020):\n",
        "    for file in files:\n",
        "        if file.endswith('.csv'):\n",
        "            csv_files.append(os.path.join(root, file))\n",
        "\n",
        "print(\"Found CSV files:\")\n",
        "for csv_file in csv_files:\n",
        "    print(f\"- {csv_file}\")\n",
        "\n",
        "# Load the main dataset CSV (usually contains metadata)\n",
        "if csv_files:\n",
        "    # Load the first CSV file found\n",
        "    df = pd.read_csv(csv_files[0])\n",
        "    print(f\"\\nLoaded dataset shape: {df.shape}\")\n",
        "    print(f\"Columns: {list(df.columns)}\")\n",
        "    print(\"\\nFirst few rows:\")\n",
        "    print(df.head())\n",
        "else:\n",
        "    print(\"No CSV files found. This might be an image-only dataset.\")\n",
        "    # In this case, you might need to create a DataFrame from image filenames\n",
        "    image_files = []\n",
        "    for root, dirs, files in os.walk(ISIC):\n",
        "        for file in files:\n",
        "            if file.lower().endswith(('.jpg', '.jpeg', '.png')):\n",
        "                image_files.append(os.path.join(root, file))\n",
        "\n",
        "    if image_files:\n",
        "        df = pd.DataFrame({'image_path': image_files[:100]})  # Sample first 100 images\n",
        "        print(f\"Created DataFrame from image files: {df.shape}\")\n",
        "        print(df.head())"
      ]
    },
    {
      "cell_type": "markdown",
      "metadata": {},
      "source": [
        "EfficientNetB0 CNN"
      ]
    },
    {
      "cell_type": "code",
      "execution_count": 10,
      "metadata": {
        "colab": {
          "base_uri": "https://localhost:8080/"
        },
        "id": "0VYVvvXNz4-O",
        "outputId": "c649993e-d946-4802-ef0a-7129a28fb59d"
      },
      "outputs": [
        {
          "name": "stdout",
          "output_type": "stream",
          "text": [
            "Total images found: 33126\n"
          ]
        }
      ],
      "source": [
        "import tensorflow as tf\n",
        "from tensorflow.keras.applications import EfficientNetB0\n",
        "from tensorflow.keras.preprocessing.image import ImageDataGenerator\n",
        "from tensorflow.keras import layers, Model\n",
        "from tensorflow.keras.optimizers import Adam\n",
        "\n",
        "# Set random seed for reproducibility\n",
        "tf.random.set_seed(42)\n",
        "\n",
        "# Create image data generators with augmentation for training\n",
        "train_datagen = ImageDataGenerator(\n",
        "    rescale=1./255,\n",
        "    rotation_range=20,\n",
        "    width_shift_range=0.2,\n",
        "    height_shift_range=0.2,\n",
        "    horizontal_flip=True,\n",
        "    fill_mode='nearest',\n",
        "    validation_split=0.2 # Added validation_split here\n",
        ")\n",
        "\n",
        "# Create a DataFrame with image paths and labels\n",
        "def create_image_dataframe_siim(dataset_path):\n",
        "    data = []\n",
        "    for root, dirs, files in os.walk(dataset_path):\n",
        "        for file in files:\n",
        "            if file.lower().endswith('.jpg'):\n",
        "                full_path = os.path.join(root, file)\n",
        "                # Extract label from the CSV if available, or use binary classification\n",
        "                # For this example, we'll use binary classification (melanoma vs. non-melanoma)\n",
        "                data.append({\n",
        "                    'image_path': full_path,\n",
        "                    'filename': file\n",
        "                })\n",
        "    return pd.DataFrame(data)\n",
        "\n",
        "# Create the DataFrame\n",
        "siim_df = create_image_dataframe_siim(ISIC_2020)\n",
        "print(f\"Total images found: {len(siim_df)}\")"
      ]
    },
    {
      "cell_type": "code",
      "execution_count": 6,
      "metadata": {
        "colab": {
          "base_uri": "https://localhost:8080/",
          "height": 472
        },
        "id": "NS-Wdgn2z4-P",
        "outputId": "21e3b887-56b5-43a7-dc2b-c338dfee179e"
      },
      "outputs": [
        {
          "name": "stdout",
          "output_type": "stream",
          "text": [
            "Downloading data from https://storage.googleapis.com/keras-applications/efficientnetb0_notop.h5\n",
            "\u001b[1m16705208/16705208\u001b[0m \u001b[32m━━━━━━━━━━━━━━━━━━━━\u001b[0m\u001b[37m\u001b[0m \u001b[1m0s\u001b[0m 0us/step\n"
          ]
        },
        {
          "data": {
            "text/html": [
              "<pre style=\"white-space:pre;overflow-x:auto;line-height:normal;font-family:Menlo,'DejaVu Sans Mono',consolas,'Courier New',monospace\"><span style=\"font-weight: bold\">Model: \"functional\"</span>\n",
              "</pre>\n"
            ],
            "text/plain": [
              "\u001b[1mModel: \"functional\"\u001b[0m\n"
            ]
          },
          "metadata": {},
          "output_type": "display_data"
        },
        {
          "data": {
            "text/html": [
              "<pre style=\"white-space:pre;overflow-x:auto;line-height:normal;font-family:Menlo,'DejaVu Sans Mono',consolas,'Courier New',monospace\">┏━━━━━━━━━━━━━━━━━━━━━━━━━━━━━━━━━┳━━━━━━━━━━━━━━━━━━━━━━━━┳━━━━━━━━━━━━━━━┓\n",
              "┃<span style=\"font-weight: bold\"> Layer (type)                    </span>┃<span style=\"font-weight: bold\"> Output Shape           </span>┃<span style=\"font-weight: bold\">       Param # </span>┃\n",
              "┡━━━━━━━━━━━━━━━━━━━━━━━━━━━━━━━━━╇━━━━━━━━━━━━━━━━━━━━━━━━╇━━━━━━━━━━━━━━━┩\n",
              "│ input_layer_1 (<span style=\"color: #0087ff; text-decoration-color: #0087ff\">InputLayer</span>)      │ (<span style=\"color: #00d7ff; text-decoration-color: #00d7ff\">None</span>, <span style=\"color: #00af00; text-decoration-color: #00af00\">256</span>, <span style=\"color: #00af00; text-decoration-color: #00af00\">256</span>, <span style=\"color: #00af00; text-decoration-color: #00af00\">3</span>)    │             <span style=\"color: #00af00; text-decoration-color: #00af00\">0</span> │\n",
              "├─────────────────────────────────┼────────────────────────┼───────────────┤\n",
              "│ efficientnetb0 (<span style=\"color: #0087ff; text-decoration-color: #0087ff\">Functional</span>)     │ (<span style=\"color: #00d7ff; text-decoration-color: #00d7ff\">None</span>, <span style=\"color: #00af00; text-decoration-color: #00af00\">8</span>, <span style=\"color: #00af00; text-decoration-color: #00af00\">8</span>, <span style=\"color: #00af00; text-decoration-color: #00af00\">1280</span>)     │     <span style=\"color: #00af00; text-decoration-color: #00af00\">4,049,571</span> │\n",
              "├─────────────────────────────────┼────────────────────────┼───────────────┤\n",
              "│ global_average_pooling2d        │ (<span style=\"color: #00d7ff; text-decoration-color: #00d7ff\">None</span>, <span style=\"color: #00af00; text-decoration-color: #00af00\">1280</span>)           │             <span style=\"color: #00af00; text-decoration-color: #00af00\">0</span> │\n",
              "│ (<span style=\"color: #0087ff; text-decoration-color: #0087ff\">GlobalAveragePooling2D</span>)        │                        │               │\n",
              "├─────────────────────────────────┼────────────────────────┼───────────────┤\n",
              "│ batch_normalization             │ (<span style=\"color: #00d7ff; text-decoration-color: #00d7ff\">None</span>, <span style=\"color: #00af00; text-decoration-color: #00af00\">1280</span>)           │         <span style=\"color: #00af00; text-decoration-color: #00af00\">5,120</span> │\n",
              "│ (<span style=\"color: #0087ff; text-decoration-color: #0087ff\">BatchNormalization</span>)            │                        │               │\n",
              "├─────────────────────────────────┼────────────────────────┼───────────────┤\n",
              "│ dropout (<span style=\"color: #0087ff; text-decoration-color: #0087ff\">Dropout</span>)               │ (<span style=\"color: #00d7ff; text-decoration-color: #00d7ff\">None</span>, <span style=\"color: #00af00; text-decoration-color: #00af00\">1280</span>)           │             <span style=\"color: #00af00; text-decoration-color: #00af00\">0</span> │\n",
              "├─────────────────────────────────┼────────────────────────┼───────────────┤\n",
              "│ dense (<span style=\"color: #0087ff; text-decoration-color: #0087ff\">Dense</span>)                   │ (<span style=\"color: #00d7ff; text-decoration-color: #00d7ff\">None</span>, <span style=\"color: #00af00; text-decoration-color: #00af00\">128</span>)            │       <span style=\"color: #00af00; text-decoration-color: #00af00\">163,968</span> │\n",
              "├─────────────────────────────────┼────────────────────────┼───────────────┤\n",
              "│ dropout_1 (<span style=\"color: #0087ff; text-decoration-color: #0087ff\">Dropout</span>)             │ (<span style=\"color: #00d7ff; text-decoration-color: #00d7ff\">None</span>, <span style=\"color: #00af00; text-decoration-color: #00af00\">128</span>)            │             <span style=\"color: #00af00; text-decoration-color: #00af00\">0</span> │\n",
              "├─────────────────────────────────┼────────────────────────┼───────────────┤\n",
              "│ dense_1 (<span style=\"color: #0087ff; text-decoration-color: #0087ff\">Dense</span>)                 │ (<span style=\"color: #00d7ff; text-decoration-color: #00d7ff\">None</span>, <span style=\"color: #00af00; text-decoration-color: #00af00\">1</span>)              │           <span style=\"color: #00af00; text-decoration-color: #00af00\">129</span> │\n",
              "└─────────────────────────────────┴────────────────────────┴───────────────┘\n",
              "</pre>\n"
            ],
            "text/plain": [
              "┏━━━━━━━━━━━━━━━━━━━━━━━━━━━━━━━━━┳━━━━━━━━━━━━━━━━━━━━━━━━┳━━━━━━━━━━━━━━━┓\n",
              "┃\u001b[1m \u001b[0m\u001b[1mLayer (type)                   \u001b[0m\u001b[1m \u001b[0m┃\u001b[1m \u001b[0m\u001b[1mOutput Shape          \u001b[0m\u001b[1m \u001b[0m┃\u001b[1m \u001b[0m\u001b[1m      Param #\u001b[0m\u001b[1m \u001b[0m┃\n",
              "┡━━━━━━━━━━━━━━━━━━━━━━━━━━━━━━━━━╇━━━━━━━━━━━━━━━━━━━━━━━━╇━━━━━━━━━━━━━━━┩\n",
              "│ input_layer_1 (\u001b[38;5;33mInputLayer\u001b[0m)      │ (\u001b[38;5;45mNone\u001b[0m, \u001b[38;5;34m256\u001b[0m, \u001b[38;5;34m256\u001b[0m, \u001b[38;5;34m3\u001b[0m)    │             \u001b[38;5;34m0\u001b[0m │\n",
              "├─────────────────────────────────┼────────────────────────┼───────────────┤\n",
              "│ efficientnetb0 (\u001b[38;5;33mFunctional\u001b[0m)     │ (\u001b[38;5;45mNone\u001b[0m, \u001b[38;5;34m8\u001b[0m, \u001b[38;5;34m8\u001b[0m, \u001b[38;5;34m1280\u001b[0m)     │     \u001b[38;5;34m4,049,571\u001b[0m │\n",
              "├─────────────────────────────────┼────────────────────────┼───────────────┤\n",
              "│ global_average_pooling2d        │ (\u001b[38;5;45mNone\u001b[0m, \u001b[38;5;34m1280\u001b[0m)           │             \u001b[38;5;34m0\u001b[0m │\n",
              "│ (\u001b[38;5;33mGlobalAveragePooling2D\u001b[0m)        │                        │               │\n",
              "├─────────────────────────────────┼────────────────────────┼───────────────┤\n",
              "│ batch_normalization             │ (\u001b[38;5;45mNone\u001b[0m, \u001b[38;5;34m1280\u001b[0m)           │         \u001b[38;5;34m5,120\u001b[0m │\n",
              "│ (\u001b[38;5;33mBatchNormalization\u001b[0m)            │                        │               │\n",
              "├─────────────────────────────────┼────────────────────────┼───────────────┤\n",
              "│ dropout (\u001b[38;5;33mDropout\u001b[0m)               │ (\u001b[38;5;45mNone\u001b[0m, \u001b[38;5;34m1280\u001b[0m)           │             \u001b[38;5;34m0\u001b[0m │\n",
              "├─────────────────────────────────┼────────────────────────┼───────────────┤\n",
              "│ dense (\u001b[38;5;33mDense\u001b[0m)                   │ (\u001b[38;5;45mNone\u001b[0m, \u001b[38;5;34m128\u001b[0m)            │       \u001b[38;5;34m163,968\u001b[0m │\n",
              "├─────────────────────────────────┼────────────────────────┼───────────────┤\n",
              "│ dropout_1 (\u001b[38;5;33mDropout\u001b[0m)             │ (\u001b[38;5;45mNone\u001b[0m, \u001b[38;5;34m128\u001b[0m)            │             \u001b[38;5;34m0\u001b[0m │\n",
              "├─────────────────────────────────┼────────────────────────┼───────────────┤\n",
              "│ dense_1 (\u001b[38;5;33mDense\u001b[0m)                 │ (\u001b[38;5;45mNone\u001b[0m, \u001b[38;5;34m1\u001b[0m)              │           \u001b[38;5;34m129\u001b[0m │\n",
              "└─────────────────────────────────┴────────────────────────┴───────────────┘\n"
            ]
          },
          "metadata": {},
          "output_type": "display_data"
        },
        {
          "data": {
            "text/html": [
              "<pre style=\"white-space:pre;overflow-x:auto;line-height:normal;font-family:Menlo,'DejaVu Sans Mono',consolas,'Courier New',monospace\"><span style=\"font-weight: bold\"> Total params: </span><span style=\"color: #00af00; text-decoration-color: #00af00\">4,218,788</span> (16.09 MB)\n",
              "</pre>\n"
            ],
            "text/plain": [
              "\u001b[1m Total params: \u001b[0m\u001b[38;5;34m4,218,788\u001b[0m (16.09 MB)\n"
            ]
          },
          "metadata": {},
          "output_type": "display_data"
        },
        {
          "data": {
            "text/html": [
              "<pre style=\"white-space:pre;overflow-x:auto;line-height:normal;font-family:Menlo,'DejaVu Sans Mono',consolas,'Courier New',monospace\"><span style=\"font-weight: bold\"> Trainable params: </span><span style=\"color: #00af00; text-decoration-color: #00af00\">166,657</span> (651.00 KB)\n",
              "</pre>\n"
            ],
            "text/plain": [
              "\u001b[1m Trainable params: \u001b[0m\u001b[38;5;34m166,657\u001b[0m (651.00 KB)\n"
            ]
          },
          "metadata": {},
          "output_type": "display_data"
        },
        {
          "data": {
            "text/html": [
              "<pre style=\"white-space:pre;overflow-x:auto;line-height:normal;font-family:Menlo,'DejaVu Sans Mono',consolas,'Courier New',monospace\"><span style=\"font-weight: bold\"> Non-trainable params: </span><span style=\"color: #00af00; text-decoration-color: #00af00\">4,052,131</span> (15.46 MB)\n",
              "</pre>\n"
            ],
            "text/plain": [
              "\u001b[1m Non-trainable params: \u001b[0m\u001b[38;5;34m4,052,131\u001b[0m (15.46 MB)\n"
            ]
          },
          "metadata": {},
          "output_type": "display_data"
        }
      ],
      "source": [
        "# Create EfficientNet model\n",
        "def create_model(num_classes=1):  # Using 1 for binary classification\n",
        "    # Load EfficientNetB0 with pre-trained weights\n",
        "    base_model = EfficientNetB0(weights='imagenet', include_top=False, input_shape=(256, 256, 3))\n",
        "\n",
        "    # Freeze the base model\n",
        "    base_model.trainable = False\n",
        "\n",
        "    # Create new model on top\n",
        "    inputs = layers.Input(shape=(256, 256, 3))\n",
        "    x = base_model(inputs, training=False)\n",
        "    x = layers.GlobalAveragePooling2D()(x)\n",
        "    x = layers.BatchNormalization()(x)\n",
        "    x = layers.Dropout(0.2)(x)\n",
        "    x = layers.Dense(128, activation='relu')(x)\n",
        "    x = layers.Dropout(0.2)(x)\n",
        "    outputs = layers.Dense(num_classes, activation='sigmoid')(x)\n",
        "\n",
        "    model = Model(inputs, outputs)\n",
        "\n",
        "    return model\n",
        "\n",
        "# Create the model\n",
        "model = create_model()\n",
        "\n",
        "# Compile the model\n",
        "model.compile(\n",
        "    optimizer=Adam(learning_rate=0.001),\n",
        "    loss='binary_crossentropy',\n",
        "    metrics=['accuracy', tf.keras.metrics.AUC()]\n",
        ")\n",
        "\n",
        "# Print model summary\n",
        "model.summary()"
      ]
    },
    {
      "cell_type": "code",
      "execution_count": null,
      "metadata": {
        "colab": {
          "base_uri": "https://localhost:8080/"
        },
        "id": "kQpwgqTaz4-P",
        "outputId": "57bf05c1-9d16-45fc-f518-3874adb7c2c8"
      },
      "outputs": [
        {
          "name": "stdout",
          "output_type": "stream",
          "text": [
            "Found 21201 validated image filenames belonging to 2 classes.\n",
            "Found 1325 validated image filenames belonging to 2 classes.\n"
          ]
        },
        {
          "name": "stderr",
          "output_type": "stream",
          "text": [
            "/usr/local/lib/python3.12/dist-packages/keras/src/trainers/data_adapters/py_dataset_adapter.py:121: UserWarning: Your `PyDataset` class should call `super().__init__(**kwargs)` in its constructor. `**kwargs` can include `workers`, `use_multiprocessing`, `max_queue_size`. Do not pass these arguments to `fit()`, as they will be ignored.\n",
            "  self._warn_if_super_not_called()\n"
          ]
        },
        {
          "name": "stdout",
          "output_type": "stream",
          "text": [
            "Epoch 1/10\n",
            "\u001b[1m 37/663\u001b[0m \u001b[32m━\u001b[0m\u001b[37m━━━━━━━━━━━━━━━━━━━\u001b[0m \u001b[1m40:33\u001b[0m 4s/step - accuracy: 0.9082 - auc: 0.4132 - loss: 0.2244"
          ]
        }
      ],
      "source": [
        "# Set up batch size and image dimensions\n",
        "BATCH_SIZE = 32\n",
        "IMG_SIZE = (256, 256)\n",
        "\n",
        "# Merge the target column from df into siim_df\n",
        "# Assuming 'isic_id' in df corresponds to the filename (without extension) in siim_df\n",
        "# and 'target' is the column with labels in df\n",
        "siim_df['isic_id'] = siim_df['filename'].apply(lambda x: os.path.splitext(x)[0])\n",
        "siim_df = pd.merge(siim_df, df[['isic_id', 'target']], on='isic_id', how='left')\n",
        "\n",
        "# Drop the temporary 'isic_id' column from siim_df if not needed later\n",
        "siim_df = siim_df.drop(columns=['isic_id'])\n",
        "\n",
        "# Convert the target column to string type for flow_from_dataframe with class_mode='binary'\n",
        "siim_df['target'] = siim_df['target'].astype(str)\n",
        "\n",
        "# Split the data into training and validation sets\n",
        "train_df = siim_df.sample(frac=0.8, random_state=42)\n",
        "val_df = siim_df.drop(train_df.index)\n",
        "\n",
        "# Create data generators\n",
        "train_generator = train_datagen.flow_from_dataframe(\n",
        "    dataframe=train_df,\n",
        "    directory=None,\n",
        "    x_col='image_path',\n",
        "    y_col='target',  # Use the 'target' column as the label\n",
        "    class_mode='binary',  # For binary classification\n",
        "    target_size=IMG_SIZE,\n",
        "    batch_size=BATCH_SIZE,\n",
        "    subset='training'\n",
        ")\n",
        "\n",
        "validation_generator = train_datagen.flow_from_dataframe(\n",
        "    dataframe=val_df,\n",
        "    directory=None,\n",
        "    x_col='image_path',\n",
        "    y_col='target', # Use the 'target' column as the label\n",
        "    class_mode='binary',\n",
        "    target_size=IMG_SIZE,\n",
        "    batch_size=BATCH_SIZE,\n",
        "    subset='validation'\n",
        ")\n",
        "\n",
        "# Train the model\n",
        "history = model.fit(\n",
        "    train_generator,\n",
        "    epochs=10,  # Adjust number of epochs as needed\n",
        "    validation_data=validation_generator,\n",
        "    callbacks=[\n",
        "        tf.keras.callbacks.EarlyStopping(\n",
        "            monitor='val_loss',\n",
        "            patience=3,\n",
        "            restore_best_weights=True\n",
        "        )\n",
        "    ]\n",
        ")"
      ]
    },
    {
      "cell_type": "code",
      "execution_count": null,
      "metadata": {
        "id": "rrPDILk6z4-P"
      },
      "outputs": [],
      "source": [
        "# Plot training history\n",
        "plt.figure(figsize=(12, 4))\n",
        "\n",
        "# Plot training & validation accuracy\n",
        "plt.subplot(1, 2, 1)\n",
        "plt.plot(history.history['accuracy'])\n",
        "plt.plot(history.history['val_accuracy'])\n",
        "plt.title('Model accuracy')\n",
        "plt.ylabel('Accuracy')\n",
        "plt.xlabel('Epoch')\n",
        "plt.legend(['Train', 'Validation'], loc='upper left')\n",
        "\n",
        "# Plot training & validation loss\n",
        "plt.subplot(1, 2, 2)\n",
        "plt.plot(history.history['loss'])\n",
        "plt.plot(history.history['val_loss'])\n",
        "plt.title('Model loss')\n",
        "plt.ylabel('Loss')\n",
        "plt.xlabel('Epoch')\n",
        "plt.legend(['Train', 'Validation'], loc='upper left')\n",
        "\n",
        "plt.tight_layout()\n",
        "plt.show()\n",
        "\n",
        "# Plot ROC curve\n",
        "plt.figure(figsize=(8, 6))\n",
        "plt.plot(history.history['auc'])\n",
        "plt.plot(history.history['val_auc'])\n",
        "plt.title('Model AUC')\n",
        "plt.ylabel('AUC')\n",
        "plt.xlabel('Epoch')\n",
        "plt.legend(['Train', 'Validation'], loc='lower right')\n",
        "plt.show()"
      ]
    }
  ],
  "metadata": {
    "colab": {
      "include_colab_link": true,
      "provenance": []
    },
    "kernelspec": {
      "display_name": "Python 3",
      "name": "python3"
    },
    "language_info": {
      "codemirror_mode": {
        "name": "ipython",
        "version": 3
      },
      "file_extension": ".py",
      "mimetype": "text/x-python",
      "name": "python",
      "nbconvert_exporter": "python",
      "pygments_lexer": "ipython3",
      "version": "3.11.9"
    }
  },
  "nbformat": 4,
  "nbformat_minor": 0
}
