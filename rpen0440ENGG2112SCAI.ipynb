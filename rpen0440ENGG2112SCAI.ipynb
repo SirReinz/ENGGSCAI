{
  "cells": [
    {
      "cell_type": "markdown",
      "metadata": {
        "colab_type": "text",
        "id": "view-in-github"
      },
      "source": [
        "<a href=\"https://colab.research.google.com/github/SirReinz/ENGGSCAI/blob/main/rpen0440ENGG2112SCAI.ipynb\" target=\"_parent\"><img src=\"https://colab.research.google.com/assets/colab-badge.svg\" alt=\"Open In Colab\"/></a>"
      ]
    },
    {
      "cell_type": "code",
      "execution_count": 1,
      "metadata": {
        "id": "I4njNvcGWkgt"
      },
      "outputs": [
        {
          "name": "stderr",
          "output_type": "stream",
          "text": [
            "C:\\Users\\richa\\AppData\\Local\\Packages\\PythonSoftwareFoundation.Python.3.11_qbz5n2kfra8p0\\LocalCache\\local-packages\\Python311\\site-packages\\tqdm\\auto.py:21: TqdmWarning: IProgress not found. Please update jupyter and ipywidgets. See https://ipywidgets.readthedocs.io/en/stable/user_install.html\n",
            "  from .autonotebook import tqdm as notebook_tqdm\n"
          ]
        }
      ],
      "source": [
        "import numpy as np\n",
        "import pandas as pd\n",
        "import matplotlib.pyplot as plt\n",
        "from sklearn.model_selection import train_test_split\n",
        "from PIL import Image\n",
        "import kagglehub\n",
        "import os\n",
        "from sklearn.preprocessing import StandardScaler, LabelEncoder\n",
        "from sklearn.pipeline import Pipeline\n",
        "from sklearn.neural_network import MLPClassifier\n",
        "\n",
        "# for images\n",
        "import tensorflow as tf\n",
        "from tensorflow.keras import layers, models, applications\n",
        "\n",
        "# for balancing\n",
        "from sklearn.utils.class_weight import compute_class_weight"
      ]
    },
    {
      "cell_type": "markdown",
      "metadata": {
        "id": "GK7D5AE1we1-"
      },
      "source": [
        "# ISIC Data"
      ]
    },
    {
      "cell_type": "code",
      "execution_count": 2,
      "metadata": {
        "colab": {
          "base_uri": "https://localhost:8080/"
        },
        "id": "tLwq_2V1gM6Z",
        "outputId": "18d95f64-dfb8-4d80-efaf-5228b4fd78f7"
      },
      "outputs": [
        {
          "name": "stdout",
          "output_type": "stream",
          "text": [
            "Resuming download from 402653184 bytes (421137475 bytes left)...\n",
            "Resuming download from https://www.kaggle.com/api/v1/datasets/download/nodoubttome/skin-cancer9-classesisic?dataset_version_number=1 (402653184/823790659) bytes left.\n"
          ]
        },
        {
          "name": "stderr",
          "output_type": "stream",
          "text": [
            "100%|██████████| 786M/786M [00:25<00:00, 16.2MB/s]"
          ]
        },
        {
          "name": "stdout",
          "output_type": "stream",
          "text": [
            "Extracting files...\n"
          ]
        },
        {
          "name": "stderr",
          "output_type": "stream",
          "text": [
            "\n"
          ]
        },
        {
          "name": "stdout",
          "output_type": "stream",
          "text": [
            "C:\\Users\\richa\\.cache\\kagglehub\\datasets\\nodoubttome\\skin-cancer9-classesisic\\versions\\1\n"
          ]
        }
      ],
      "source": [
        "# import datasets\n",
        "ISIC = kagglehub.dataset_download(\"nodoubttome/skin-cancer9-classesisic\")\n",
        "print(ISIC)\n"
      ]
    },
    {
      "cell_type": "code",
      "execution_count": 6,
      "metadata": {
        "colab": {
          "base_uri": "https://localhost:8080/"
        },
        "id": "1VvSVQBHh1m_",
        "outputId": "b90108ca-1684-4134-e2f3-b998992a88ec"
      },
      "outputs": [
        {
          "name": "stdout",
          "output_type": "stream",
          "text": [
            "Created image DataFrame: (2357, 3)\n",
            "Classes found: ['actinic keratosis' 'basal cell carcinoma' 'dermatofibroma' 'melanoma'\n",
            " 'nevus' 'pigmented benign keratosis' 'seborrheic keratosis'\n",
            " 'squamous cell carcinoma' 'vascular lesion']\n",
            "\n",
            "Sample data:\n",
            "                                          image_path              class  \\\n",
            "0  C:\\Users\\richa\\.cache\\kagglehub\\datasets\\nodou...  actinic keratosis   \n",
            "1  C:\\Users\\richa\\.cache\\kagglehub\\datasets\\nodou...  actinic keratosis   \n",
            "2  C:\\Users\\richa\\.cache\\kagglehub\\datasets\\nodou...  actinic keratosis   \n",
            "3  C:\\Users\\richa\\.cache\\kagglehub\\datasets\\nodou...  actinic keratosis   \n",
            "4  C:\\Users\\richa\\.cache\\kagglehub\\datasets\\nodou...  actinic keratosis   \n",
            "\n",
            "           filename  \n",
            "0  ISIC_0010512.jpg  \n",
            "1  ISIC_0010889.jpg  \n",
            "2  ISIC_0024468.jpg  \n",
            "3  ISIC_0024470.jpg  \n",
            "4  ISIC_0024511.jpg  \n",
            "\n",
            "Class distribution:\n",
            "class\n",
            "pigmented benign keratosis    478\n",
            "melanoma                      454\n",
            "basal cell carcinoma          392\n",
            "nevus                         373\n",
            "squamous cell carcinoma       197\n",
            "vascular lesion               142\n",
            "actinic keratosis             130\n",
            "dermatofibroma                111\n",
            "seborrheic keratosis           80\n",
            "Name: count, dtype: int64\n"
          ]
        }
      ],
      "source": [
        "def create_image_dataframe(dataset_path):\n",
        "    \"\"\"Create a DataFrame with image paths and labels from folder structure\"\"\"\n",
        "    data = []\n",
        "\n",
        "    for root, dirs, files in os.walk(dataset_path):\n",
        "        # Skip the root directory\n",
        "        if root == dataset_path:\n",
        "            continue\n",
        "\n",
        "        # Get class name from folder name\n",
        "        class_name = os.path.basename(root)\n",
        "\n",
        "        for file in files:\n",
        "            if file.lower().endswith(('.jpg', '.jpeg', '.png')):\n",
        "                full_path = os.path.join(root, file)\n",
        "                data.append({\n",
        "                    'image_path': full_path,\n",
        "                    'class': class_name,\n",
        "                    'filename': file\n",
        "                })\n",
        "\n",
        "    return pd.DataFrame(data)\n",
        "\n",
        "# Try to create DataFrame from folder structure\n",
        "try:\n",
        "    image_df = create_image_dataframe(ISIC)\n",
        "    if not image_df.empty:\n",
        "        print(f\"Created image DataFrame: {image_df.shape}\")\n",
        "        print(f\"Classes found: {image_df['class'].unique()}\")\n",
        "        print(\"\\nSample data:\")\n",
        "        print(image_df.head())\n",
        "\n",
        "        # Show class distribution\n",
        "        print(\"\\nClass distribution:\")\n",
        "        print(image_df['class'].value_counts())\n",
        "except Exception as e:\n",
        "    print(f\"Could not create image DataFrame: {e}\")"
      ]
    },
    {
      "cell_type": "markdown",
      "metadata": {
        "id": "F5cu_PeXvAvC"
      },
      "source": [
        "# SIIM ISIC Data"
      ]
    },
    {
      "cell_type": "code",
      "execution_count": 8,
      "metadata": {
        "colab": {
          "base_uri": "https://localhost:8080/"
        },
        "id": "1js74KT0vxzS",
        "outputId": "f7df421a-173a-44f6-8e5a-bfb1f311ebad"
      },
      "outputs": [
        {
          "name": "stdout",
          "output_type": "stream",
          "text": [
            "Resuming download from 196083712 bytes (428094526 bytes left)...\n",
            "Resuming download from https://www.kaggle.com/api/v1/datasets/download/nischaydnk/isic-2020-jpg-256x256-resized?dataset_version_number=1 (196083712/624178238) bytes left.\n"
          ]
        },
        {
          "name": "stderr",
          "output_type": "stream",
          "text": [
            "100%|██████████| 595M/595M [00:28<00:00, 15.2MB/s]"
          ]
        },
        {
          "name": "stdout",
          "output_type": "stream",
          "text": [
            "Extracting files...\n"
          ]
        },
        {
          "name": "stderr",
          "output_type": "stream",
          "text": [
            "\n"
          ]
        },
        {
          "name": "stdout",
          "output_type": "stream",
          "text": [
            "ISIC 2020 (256x256) dataset downloaded to: C:\\Users\\richa\\.cache\\kagglehub\\datasets\\nischaydnk\\isic-2020-jpg-256x256-resized\\versions\\1\n"
          ]
        }
      ],
      "source": [
        "# Download the ISIC 2020 resized dataset (256x256)\n",
        "ISIC_2020 = kagglehub.dataset_download(\"nischaydnk/isic-2020-jpg-256x256-resized\")\n",
        "print(\"ISIC 2020 (256x256) dataset downloaded to:\", ISIC_2020)"
      ]
    },
    {
      "cell_type": "markdown",
      "metadata": {
        "id": "uHeEi5Tx3UMY"
      },
      "source": [
        "# PREPRCESSING RUN ALL"
      ]
    },
    {
      "cell_type": "code",
      "execution_count": 9,
      "metadata": {
        "colab": {
          "base_uri": "https://localhost:8080/"
        },
        "id": "nxDjt36SzAvt",
        "outputId": "707d7248-d2c5-4a1b-93ce-bd2ff812e2c0"
      },
      "outputs": [
        {
          "name": "stdout",
          "output_type": "stream",
          "text": [
            "Found CSV files:\n",
            "- C:\\Users\\richa\\.cache\\kagglehub\\datasets\\nischaydnk\\isic-2020-jpg-256x256-resized\\versions\\1\\train-metadata.csv\n",
            "\n",
            "Loaded dataset shape: (33126, 4)\n",
            "Columns: ['Unnamed: 0', 'isic_id', 'patient_id', 'target']\n",
            "\n",
            "First few rows:\n",
            "   Unnamed: 0       isic_id  patient_id  target\n",
            "0           0  ISIC_2637011  IP_7279968       0\n",
            "1           1  ISIC_0015719  IP_3075186       0\n",
            "2           2  ISIC_0052212  IP_2842074       0\n",
            "3           3  ISIC_0068279  IP_6890425       0\n",
            "4           4  ISIC_0074268  IP_8723313       0\n"
          ]
        }
      ],
      "source": [
        "csv_files = []\n",
        "for root, dirs, files in os.walk(ISIC_2020):\n",
        "    for file in files:\n",
        "        if file.endswith('.csv'):\n",
        "            csv_files.append(os.path.join(root, file))\n",
        "\n",
        "print(\"Found CSV files:\")\n",
        "for csv_file in csv_files:\n",
        "    print(f\"- {csv_file}\")\n",
        "\n",
        "\n",
        "# Load the CSV file into a new variable name to avoid conflict\n",
        "if csv_files:\n",
        "    metadata_df = pd.read_csv(csv_files[0]) # Keep metadata_df name for the ISIC_2020 metadata\n",
        "    print(f\"\\nLoaded dataset shape: {metadata_df.shape}\")\n",
        "    print(f\"Columns: {list(metadata_df.columns)}\")\n",
        "    print(\"\\nFirst few rows:\")\n",
        "    print(metadata_df.head())\n",
        "else:\n",
        "    print(\"No CSV files found for ISIC 2020.\")\n",
        "    metadata_df = pd.DataFrame() # Create empty DataFrame if no CSV found\n"
      ]
    },
    {
      "cell_type": "code",
      "execution_count": 10,
      "metadata": {
        "colab": {
          "base_uri": "https://localhost:8080/",
          "height": 897
        },
        "id": "84d50780",
        "outputId": "e9db91e8-83da-4f80-d827-276c13e9ad39"
      },
      "outputs": [
        {
          "name": "stdout",
          "output_type": "stream",
          "text": [
            "\n",
            "Debug: ISIC_2020 path is: C:\\Users\\richa\\.cache\\kagglehub\\datasets\\nischaydnk\\isic-2020-jpg-256x256-resized\\versions\\1\n",
            "\n",
            "--- Debug Info Before Concatenation ---\n",
            "image_df_subset shape: (2357, 3)\n",
            "image_df_subset head:\n"
          ]
        },
        {
          "data": {
            "text/html": [
              "<div>\n",
              "<style scoped>\n",
              "    .dataframe tbody tr th:only-of-type {\n",
              "        vertical-align: middle;\n",
              "    }\n",
              "\n",
              "    .dataframe tbody tr th {\n",
              "        vertical-align: top;\n",
              "    }\n",
              "\n",
              "    .dataframe thead th {\n",
              "        text-align: right;\n",
              "    }\n",
              "</style>\n",
              "<table border=\"1\" class=\"dataframe\">\n",
              "  <thead>\n",
              "    <tr style=\"text-align: right;\">\n",
              "      <th></th>\n",
              "      <th>image_path</th>\n",
              "      <th>label</th>\n",
              "      <th>source</th>\n",
              "    </tr>\n",
              "  </thead>\n",
              "  <tbody>\n",
              "    <tr>\n",
              "      <th>0</th>\n",
              "      <td>C:\\Users\\richa\\.cache\\kagglehub\\datasets\\nodou...</td>\n",
              "      <td>0</td>\n",
              "      <td>ISIC</td>\n",
              "    </tr>\n",
              "    <tr>\n",
              "      <th>1</th>\n",
              "      <td>C:\\Users\\richa\\.cache\\kagglehub\\datasets\\nodou...</td>\n",
              "      <td>0</td>\n",
              "      <td>ISIC</td>\n",
              "    </tr>\n",
              "    <tr>\n",
              "      <th>2</th>\n",
              "      <td>C:\\Users\\richa\\.cache\\kagglehub\\datasets\\nodou...</td>\n",
              "      <td>0</td>\n",
              "      <td>ISIC</td>\n",
              "    </tr>\n",
              "    <tr>\n",
              "      <th>3</th>\n",
              "      <td>C:\\Users\\richa\\.cache\\kagglehub\\datasets\\nodou...</td>\n",
              "      <td>0</td>\n",
              "      <td>ISIC</td>\n",
              "    </tr>\n",
              "    <tr>\n",
              "      <th>4</th>\n",
              "      <td>C:\\Users\\richa\\.cache\\kagglehub\\datasets\\nodou...</td>\n",
              "      <td>0</td>\n",
              "      <td>ISIC</td>\n",
              "    </tr>\n",
              "  </tbody>\n",
              "</table>\n",
              "</div>"
            ],
            "text/plain": [
              "                                          image_path  label source\n",
              "0  C:\\Users\\richa\\.cache\\kagglehub\\datasets\\nodou...      0   ISIC\n",
              "1  C:\\Users\\richa\\.cache\\kagglehub\\datasets\\nodou...      0   ISIC\n",
              "2  C:\\Users\\richa\\.cache\\kagglehub\\datasets\\nodou...      0   ISIC\n",
              "3  C:\\Users\\richa\\.cache\\kagglehub\\datasets\\nodou...      0   ISIC\n",
              "4  C:\\Users\\richa\\.cache\\kagglehub\\datasets\\nodou...      0   ISIC"
            ]
          },
          "metadata": {},
          "output_type": "display_data"
        },
        {
          "name": "stdout",
          "output_type": "stream",
          "text": [
            "\n",
            "metadata_df_subset shape: (33126, 3)\n",
            "metadata_df_subset head:\n"
          ]
        },
        {
          "data": {
            "text/html": [
              "<div>\n",
              "<style scoped>\n",
              "    .dataframe tbody tr th:only-of-type {\n",
              "        vertical-align: middle;\n",
              "    }\n",
              "\n",
              "    .dataframe tbody tr th {\n",
              "        vertical-align: top;\n",
              "    }\n",
              "\n",
              "    .dataframe thead th {\n",
              "        text-align: right;\n",
              "    }\n",
              "</style>\n",
              "<table border=\"1\" class=\"dataframe\">\n",
              "  <thead>\n",
              "    <tr style=\"text-align: right;\">\n",
              "      <th></th>\n",
              "      <th>image_path</th>\n",
              "      <th>label</th>\n",
              "      <th>source</th>\n",
              "    </tr>\n",
              "  </thead>\n",
              "  <tbody>\n",
              "    <tr>\n",
              "      <th>0</th>\n",
              "      <td>C:\\Users\\richa\\.cache\\kagglehub\\datasets\\nisch...</td>\n",
              "      <td>0</td>\n",
              "      <td>ISIC_2020</td>\n",
              "    </tr>\n",
              "    <tr>\n",
              "      <th>1</th>\n",
              "      <td>C:\\Users\\richa\\.cache\\kagglehub\\datasets\\nisch...</td>\n",
              "      <td>0</td>\n",
              "      <td>ISIC_2020</td>\n",
              "    </tr>\n",
              "    <tr>\n",
              "      <th>2</th>\n",
              "      <td>C:\\Users\\richa\\.cache\\kagglehub\\datasets\\nisch...</td>\n",
              "      <td>0</td>\n",
              "      <td>ISIC_2020</td>\n",
              "    </tr>\n",
              "    <tr>\n",
              "      <th>3</th>\n",
              "      <td>C:\\Users\\richa\\.cache\\kagglehub\\datasets\\nisch...</td>\n",
              "      <td>0</td>\n",
              "      <td>ISIC_2020</td>\n",
              "    </tr>\n",
              "    <tr>\n",
              "      <th>4</th>\n",
              "      <td>C:\\Users\\richa\\.cache\\kagglehub\\datasets\\nisch...</td>\n",
              "      <td>0</td>\n",
              "      <td>ISIC_2020</td>\n",
              "    </tr>\n",
              "  </tbody>\n",
              "</table>\n",
              "</div>"
            ],
            "text/plain": [
              "                                          image_path  label     source\n",
              "0  C:\\Users\\richa\\.cache\\kagglehub\\datasets\\nisch...      0  ISIC_2020\n",
              "1  C:\\Users\\richa\\.cache\\kagglehub\\datasets\\nisch...      0  ISIC_2020\n",
              "2  C:\\Users\\richa\\.cache\\kagglehub\\datasets\\nisch...      0  ISIC_2020\n",
              "3  C:\\Users\\richa\\.cache\\kagglehub\\datasets\\nisch...      0  ISIC_2020\n",
              "4  C:\\Users\\richa\\.cache\\kagglehub\\datasets\\nisch...      0  ISIC_2020"
            ]
          },
          "metadata": {},
          "output_type": "display_data"
        },
        {
          "name": "stdout",
          "output_type": "stream",
          "text": [
            "--- End Debug Info ---\n",
            "Combined DataFrame shape: (35483, 3)\n",
            "Combined DataFrame head:\n"
          ]
        },
        {
          "data": {
            "text/html": [
              "<div>\n",
              "<style scoped>\n",
              "    .dataframe tbody tr th:only-of-type {\n",
              "        vertical-align: middle;\n",
              "    }\n",
              "\n",
              "    .dataframe tbody tr th {\n",
              "        vertical-align: top;\n",
              "    }\n",
              "\n",
              "    .dataframe thead th {\n",
              "        text-align: right;\n",
              "    }\n",
              "</style>\n",
              "<table border=\"1\" class=\"dataframe\">\n",
              "  <thead>\n",
              "    <tr style=\"text-align: right;\">\n",
              "      <th></th>\n",
              "      <th>image_path</th>\n",
              "      <th>label</th>\n",
              "      <th>source</th>\n",
              "    </tr>\n",
              "  </thead>\n",
              "  <tbody>\n",
              "    <tr>\n",
              "      <th>0</th>\n",
              "      <td>C:\\Users\\richa\\.cache\\kagglehub\\datasets\\nodou...</td>\n",
              "      <td>0</td>\n",
              "      <td>ISIC</td>\n",
              "    </tr>\n",
              "    <tr>\n",
              "      <th>1</th>\n",
              "      <td>C:\\Users\\richa\\.cache\\kagglehub\\datasets\\nodou...</td>\n",
              "      <td>0</td>\n",
              "      <td>ISIC</td>\n",
              "    </tr>\n",
              "    <tr>\n",
              "      <th>2</th>\n",
              "      <td>C:\\Users\\richa\\.cache\\kagglehub\\datasets\\nodou...</td>\n",
              "      <td>0</td>\n",
              "      <td>ISIC</td>\n",
              "    </tr>\n",
              "    <tr>\n",
              "      <th>3</th>\n",
              "      <td>C:\\Users\\richa\\.cache\\kagglehub\\datasets\\nodou...</td>\n",
              "      <td>0</td>\n",
              "      <td>ISIC</td>\n",
              "    </tr>\n",
              "    <tr>\n",
              "      <th>4</th>\n",
              "      <td>C:\\Users\\richa\\.cache\\kagglehub\\datasets\\nodou...</td>\n",
              "      <td>0</td>\n",
              "      <td>ISIC</td>\n",
              "    </tr>\n",
              "  </tbody>\n",
              "</table>\n",
              "</div>"
            ],
            "text/plain": [
              "                                          image_path  label source\n",
              "0  C:\\Users\\richa\\.cache\\kagglehub\\datasets\\nodou...      0   ISIC\n",
              "1  C:\\Users\\richa\\.cache\\kagglehub\\datasets\\nodou...      0   ISIC\n",
              "2  C:\\Users\\richa\\.cache\\kagglehub\\datasets\\nodou...      0   ISIC\n",
              "3  C:\\Users\\richa\\.cache\\kagglehub\\datasets\\nodou...      0   ISIC\n",
              "4  C:\\Users\\richa\\.cache\\kagglehub\\datasets\\nodou...      0   ISIC"
            ]
          },
          "metadata": {},
          "output_type": "display_data"
        },
        {
          "name": "stdout",
          "output_type": "stream",
          "text": [
            "\n",
            "Class distribution in combined dataset:\n",
            "label\n",
            "0    33856\n",
            "1     1627\n",
            "Name: count, dtype: int64\n"
          ]
        }
      ],
      "source": [
        "# Join the two datasets\n",
        "\n",
        "# Define a mapping for the first dataset's classes to a binary target\n",
        "class_to_target = {\n",
        "    'nevus': 0,\n",
        "    'seborrheic keratosis': 0,\n",
        "    'pigmented benign keratosis': 0,\n",
        "    'melanoma': 1,\n",
        "    'basal cell carcinoma': 1,\n",
        "    'actinic keratosis': 0, # Actinic keratosis is pre-malignant, but often treated as benign in datasets\n",
        "    'vascular lesion': 0,\n",
        "    'dermatofibroma': 0,\n",
        "    'squamous cell carcinoma': 1\n",
        "}\n",
        "\n",
        "# Apply the mapping to the first dataset\n",
        "# Ensure image_df from cell 1VvSVQBHh1m_ is used and it has the 'class' column\n",
        "if 'class' in image_df.columns:\n",
        "    image_df['target'] = image_df['class'].map(class_to_target)\n",
        "    # Keep only relevant columns for merging and add source column\n",
        "    image_df_subset = image_df[['image_path', 'target']].copy()\n",
        "    image_df_subset.rename(columns={'target': 'label'}, inplace=True) # Rename to avoid confusion with the second dataset's 'target'\n",
        "    image_df_subset['source'] = 'ISIC' # Add source column\n",
        "else:\n",
        "    # This case should ideally not happen if image_df from folder structure is used\n",
        "    print(\"Error: 'class' column not found in the image_df from folder structure. Cannot create binary labels for merging.\")\n",
        "    # Create an empty DataFrame with the expected columns to avoid errors during concatenation\n",
        "    image_df_subset = pd.DataFrame(columns=['image_path', 'label', 'source'])\n",
        "\n",
        "\n",
        "# For the second dataset, we already have the 'target' column (0 or 1) in metadata_df\n",
        "if 'target' in metadata_df.columns and 'isic_id' in metadata_df.columns:\n",
        "    # Construct image paths using 'isic_id' and the base path of the ISIC 2020 dataset\n",
        "    # --- Debug Print for ISIC_2020 Path ---\n",
        "    print(f\"\\nDebug: ISIC_2020 path is: {ISIC_2020}\")\n",
        "    # --- End Debug Print ---\n",
        "    metadata_df_subset = metadata_df[['isic_id', 'target']].copy()\n",
        "    # Assuming images are in a 'train' subdir and are .jpg within the ISIC_2020 path\n",
        "    metadata_df_subset['image_path'] = metadata_df_subset['isic_id'].apply(lambda x: os.path.join(ISIC_2020, 'train-image/image', x + '.jpg'))\n",
        "    metadata_df_subset.rename(columns={'target': 'label'}, inplace=True) # Rename to match the first dataset subset\n",
        "    metadata_df_subset = metadata_df_subset[['image_path', 'label']] # Reorder columns\n",
        "    metadata_df_subset['source'] = 'ISIC_2020' # Add source column\n",
        "\n",
        "else:\n",
        "    print(\"Warning: 'target' or 'isic_id' column not found in the second dataset. Cannot use its labels for merging.\")\n",
        "    # Create an empty DataFrame with the expected columns to avoid errors during concatenation\n",
        "    metadata_df_subset = pd.DataFrame(columns=['image_path', 'label', 'source'])\n",
        "\n",
        "# --- Debugging Print Statements ---\n",
        "print(\"\\n--- Debug Info Before Concatenation ---\")\n",
        "print(\"image_df_subset shape:\", image_df_subset.shape)\n",
        "print(\"image_df_subset head:\")\n",
        "display(image_df_subset.head())\n",
        "print(\"\\nmetadata_df_subset shape:\", metadata_df_subset.shape)\n",
        "print(\"metadata_df_subset head:\")\n",
        "display(metadata_df_subset.head())\n",
        "print(\"--- End Debug Info ---\")\n",
        "# --- End Debugging Print Statements ---\n",
        "\n",
        "\n",
        "# Concatenate the two dataframes\n",
        "# Ensure both dataframes have the 'image_path', 'label', and 'source' columns before concatenating\n",
        "combined_df = pd.concat([image_df_subset, metadata_df_subset], ignore_index=True)\n",
        "\n",
        "# Drop rows where 'label' is NaN to ensure no missing labels\n",
        "combined_df.dropna(subset=['label'], inplace=True)\n",
        "\n",
        "print(\"Combined DataFrame shape:\", combined_df.shape)\n",
        "print(\"Combined DataFrame head:\")\n",
        "display(combined_df.head())\n",
        "\n",
        "# Display class distribution in the combined dataset\n",
        "print(\"\\nClass distribution in combined dataset:\")\n",
        "print(combined_df['label'].value_counts())\n",
        "\n",
        "# You can now use 'combined_df' for further preprocessing and model training"
      ]
    },
    {
      "cell_type": "code",
      "execution_count": 11,
      "metadata": {
        "colab": {
          "base_uri": "https://localhost:8080/"
        },
        "id": "3ukKSjy9ZwQz",
        "outputId": "8896211c-a798-40d8-da25-d96c880f4800"
      },
      "outputs": [
        {
          "name": "stdout",
          "output_type": "stream",
          "text": [
            "Class weights: {0: np.float64(0.5240363314133806), 1: np.float64(10.900921658986174)}\n"
          ]
        }
      ],
      "source": [
        "import tensorflow as tf\n",
        "import os\n",
        "\n",
        "# 0 = Benign, 1 = Malignant\n",
        "\n",
        "# Preprocessing\n",
        "\n",
        "# Split the data into training and validation sets using the combined_df\n",
        "train_df, val_df = train_test_split(combined_df, test_size=0.2, stratify=combined_df['label'], random_state=42)\n",
        "\n",
        "# Define image size\n",
        "IMG_WIDTH = 256\n",
        "IMG_HEIGHT = 256\n",
        "\n",
        "# Function to load and preprocess images\n",
        "def load_image(image_path, label):\n",
        "    img = tf.io.read_file(image_path)\n",
        "    img = tf.image.decode_jpeg(img, channels=3) # Decode JPG image\n",
        "    img = tf.image.convert_image_dtype(img, tf.float32) # Convert to float [0, 1]\n",
        "    img = tf.image.resize(img, [IMG_HEIGHT, IMG_WIDTH]) # Resize image\n",
        "    return img, label\n",
        "\n",
        "# Create tf.data.Dataset from dataframes\n",
        "train_ds = tf.data.Dataset.from_tensor_slices((train_df['image_path'], train_df['label']))\n",
        "val_ds = tf.data.Dataset.from_tensor_slices((val_df['image_path'], val_df['label']))\n",
        "\n",
        "# Apply the loading and preprocessing function to the datasets\n",
        "AUTOTUNE = tf.data.AUTOTUNE\n",
        "\n",
        "train_ds = train_ds.map(load_image, num_parallel_calls=AUTOTUNE)\n",
        "val_ds = val_ds.map(load_image, num_parallel_calls=AUTOTUNE)\n",
        "\n",
        "# Configure datasets for performance\n",
        "BATCH_SIZE = 32\n",
        "\n",
        "train_ds = train_ds.cache().shuffle(1000).batch(BATCH_SIZE).prefetch(buffer_size=AUTOTUNE)\n",
        "val_ds = val_ds.cache().batch(BATCH_SIZE).prefetch(buffer_size=AUTOTUNE)\n",
        "\n",
        "\n",
        "# Balance dataset (calculate class weights based on the combined training data)\n",
        "class_weights = compute_class_weight(\n",
        "    class_weight='balanced',\n",
        "    classes=np.unique(train_df['label']),\n",
        "    y=train_df['label']\n",
        ")\n",
        "class_weights = dict(enumerate(class_weights))\n",
        "print(\"Class weights:\", class_weights)\n",
        "\n",
        "# Data augmentation\n",
        "data_augmentation = tf.keras.Sequential([\n",
        "    tf.keras.layers.RandomFlip(\"horizontal_and_vertical\"),\n",
        "    tf.keras.layers.RandomRotation(0.1),\n",
        "    tf.keras.layers.RandomZoom(0.1)\n",
        "])\n",
        "\n",
        "train_ds = train_ds.map(lambda x, y: (data_augmentation(x, training=True), y), num_parallel_calls=AUTOTUNE)"
      ]
    },
    {
      "cell_type": "code",
      "execution_count": 12,
      "metadata": {
        "id": "ea22227d"
      },
      "outputs": [],
      "source": [
        "def load_and_preprocess_image_for_cnn(row, target_size=(256, 256)):\n",
        "    \"\"\"Loads, decodes, and preprocesses an image for CNN input based on source.\"\"\"\n",
        "    image_path = row['image_path']\n",
        "    source = row['source']\n",
        "\n",
        "    # Determine the correct base path based on the source\n",
        "    if source == 'ISIC':\n",
        "        base_path = ISIC\n",
        "    elif source == 'ISIC_2020':\n",
        "        base_path = ISIC_2020\n",
        "    else:\n",
        "        print(f\"Warning: Unknown source '{source}' for image '{image_path}'. Cannot load.\")\n",
        "        return None\n",
        "\n",
        "    # Construct the full image path\n",
        "    full_image_path = os.path.join(base_path, os.path.basename(image_path))\n",
        "\n",
        "\n",
        "    try:\n",
        "        img = Image.open(full_image_path).convert('RGB')  # Ensure image is in RGB format\n",
        "        img = img.resize(target_size)\n",
        "        return np.array(img)\n",
        "    except Exception as e:\n",
        "        print(f\"Error loading image {full_image_path}: {e}\")\n",
        "        return None\n",
        "\n",
        "# Define the target size for the images\n",
        "target_size = (IMG_WIDTH, IMG_HEIGHT)"
      ]
    },
    {
      "cell_type": "code",
      "execution_count": 13,
      "metadata": {
        "colab": {
          "base_uri": "https://localhost:8080/"
        },
        "id": "62ZmzMvDe0hz",
        "outputId": "44004eea-9018-4628-a386-55038c2aa6c6"
      },
      "outputs": [
        {
          "name": "stdout",
          "output_type": "stream",
          "text": [
            "Training set size: 24838\n",
            "Testing set size: 10645\n"
          ]
        }
      ],
      "source": [
        "# Use combined_df for splitting\n",
        "X = combined_df['image_path']\n",
        "y = combined_df['label']\n",
        "\n",
        "# Split the data into training and testing sets\n",
        "X_train, X_test, y_train, y_test = train_test_split(X, y, test_size=0.3, random_state=42, stratify=y)\n",
        "\n",
        "print(\"Training set size:\", len(X_train))\n",
        "print(\"Testing set size:\", len(X_test))"
      ]
    },
    {
      "cell_type": "markdown",
      "metadata": {
        "id": "FLvteqXK3cV1"
      },
      "source": [
        "# PREPROCESSING END"
      ]
    },
    {
      "cell_type": "code",
      "execution_count": 14,
      "metadata": {
        "colab": {
          "base_uri": "https://localhost:8080/"
        },
        "id": "4kyiNvxZCG9a",
        "outputId": "e34548c2-9c33-42ea-caee-260556e9305e"
      },
      "outputs": [
        {
          "name": "stdout",
          "output_type": "stream",
          "text": [
            "Checking if image files in the training dataset exist...\n",
            "All checked image files in the training dataset exist.\n"
          ]
        }
      ],
      "source": [
        "import os\n",
        "\n",
        "# Check if image files in train_df exist\n",
        "print(\"Checking if image files in the training dataset exist...\")\n",
        "all_files_exist = True\n",
        "checked_count = 0\n",
        "for image_path in train_df['image_path']:\n",
        "    if not os.path.exists(image_path):\n",
        "        all_files_exist = False\n",
        "        # Stop after finding a few missing files to avoid excessive output\n",
        "        checked_count += 1\n",
        "        if checked_count <= 5:\n",
        "            print(f\"Image file not found: {image_path}\")\n",
        "\n",
        "if all_files_exist:\n",
        "    print(\"All checked image files in the training dataset exist.\")\n",
        "elif checked_count > 0:\n",
        "    print(\"Some image files were not found. Please check the paths.\")\n",
        "else:\n",
        "    print(\"No image files to check in the training dataset.\")"
      ]
    },
    {
      "cell_type": "markdown",
      "metadata": {
        "id": "7UPEf083_31V"
      },
      "source": [
        "# DenseNet121"
      ]
    },
    {
      "cell_type": "code",
      "execution_count": 15,
      "metadata": {
        "id": "3QpTFh46_3dn"
      },
      "outputs": [
        {
          "name": "stdout",
          "output_type": "stream",
          "text": [
            "Downloading data from https://storage.googleapis.com/tensorflow/keras-applications/densenet/densenet121_weights_tf_dim_ordering_tf_kernels_notop.h5\n",
            "\u001b[1m29084464/29084464\u001b[0m \u001b[32m━━━━━━━━━━━━━━━━━━━━\u001b[0m\u001b[37m\u001b[0m \u001b[1m3s\u001b[0m 0us/step\n"
          ]
        }
      ],
      "source": [
        "from tensorflow.keras.applications import DenseNet121\n",
        "from tensorflow.keras import layers, models, optimizers\n",
        "from tensorflow.keras.metrics import Precision, Recall\n",
        "\n",
        "# Load pretrained DenseNet121 from ImageNet\n",
        "base_model = DenseNet121(\n",
        "    weights='imagenet',\n",
        "    include_top=False,      # exclude the final classification layer\n",
        "    input_shape=(256, 256, 3)\n",
        ")\n",
        "\n",
        "# Freeze base model so its weights aren’t updated yet\n",
        "base_model.trainable = False\n",
        "# this pretrained model already recognised edges etc, thus freezing for the start is good"
      ]
    },
    {
      "cell_type": "code",
      "execution_count": 16,
      "metadata": {
        "id": "T8hN3LDaNhOV"
      },
      "outputs": [],
      "source": [
        "model = models.Sequential([\n",
        "    base_model,  # DenseNet feature extractor\n",
        "    layers.GlobalAveragePooling2D(),  # reduces spatial dimensions\n",
        "    layers.Dense(128, activation='relu'),\n",
        "    layers.Dropout(0.3),\n",
        "    layers.Dense(1, activation='sigmoid')  # binary classification output\n",
        "])\n"
      ]
    },
    {
      "cell_type": "code",
      "execution_count": 17,
      "metadata": {
        "id": "Q-1tomxDNsBL"
      },
      "outputs": [],
      "source": [
        "model.compile(\n",
        "    optimizer=optimizers.Adam(learning_rate=1e-4),\n",
        "    loss='binary_crossentropy',\n",
        "    metrics=['accuracy', Precision(name='precision'), Recall(name='recall'), tf.keras.metrics.AUC(name='auc')]\n",
        ")\n"
      ]
    },
    {
      "cell_type": "code",
      "execution_count": 22,
      "metadata": {},
      "outputs": [],
      "source": [
        "from tensorflow.keras.callbacks import ModelCheckpoint\n",
        "\n",
        "checkpoint_cb = ModelCheckpoint(\n",
        "    filepath='checkpoints/epoch_{epoch:02d}.keras',\n",
        "    save_freq='epoch',\n",
        "    save_weights_only=False,\n",
        ")"
      ]
    },
    {
      "cell_type": "code",
      "execution_count": 23,
      "metadata": {
        "colab": {
          "base_uri": "https://localhost:8080/"
        },
        "id": "5TKCv8V4Nt_g",
        "outputId": "ab8f2833-75ac-4a0a-e027-abbc4179e976"
      },
      "outputs": [
        {
          "name": "stdout",
          "output_type": "stream",
          "text": [
            "Epoch 1/7\n",
            "\u001b[1m888/888\u001b[0m \u001b[32m━━━━━━━━━━━━━━━━━━━━\u001b[0m\u001b[37m\u001b[0m \u001b[1m957s\u001b[0m 1s/step - accuracy: 0.8272 - auc: 0.8985 - loss: 0.4034 - precision: 0.1837 - recall: 0.8041 - val_accuracy: 0.8108 - val_auc: 0.9030 - val_loss: 0.4503 - val_precision: 0.1750 - val_recall: 0.8431\n",
            "Epoch 2/7\n",
            "\u001b[1m888/888\u001b[0m \u001b[32m━━━━━━━━━━━━━━━━━━━━\u001b[0m\u001b[37m\u001b[0m \u001b[1m849s\u001b[0m 955ms/step - accuracy: 0.8304 - auc: 0.9019 - loss: 0.3962 - precision: 0.1869 - recall: 0.8049 - val_accuracy: 0.7552 - val_auc: 0.9073 - val_loss: 0.5341 - val_precision: 0.1442 - val_recall: 0.8800\n",
            "Epoch 3/7\n",
            "\u001b[1m888/888\u001b[0m \u001b[32m━━━━━━━━━━━━━━━━━━━━\u001b[0m\u001b[37m\u001b[0m \u001b[1m839s\u001b[0m 944ms/step - accuracy: 0.8341 - auc: 0.9057 - loss: 0.3896 - precision: 0.1897 - recall: 0.7995 - val_accuracy: 0.7953 - val_auc: 0.9085 - val_loss: 0.4681 - val_precision: 0.1647 - val_recall: 0.8523\n",
            "Epoch 4/7\n",
            "\u001b[1m888/888\u001b[0m \u001b[32m━━━━━━━━━━━━━━━━━━━━\u001b[0m\u001b[37m\u001b[0m \u001b[1m846s\u001b[0m 951ms/step - accuracy: 0.8350 - auc: 0.9090 - loss: 0.3826 - precision: 0.1924 - recall: 0.8126 - val_accuracy: 0.8492 - val_auc: 0.9050 - val_loss: 0.3719 - val_precision: 0.2060 - val_recall: 0.8031\n",
            "Epoch 5/7\n",
            "\u001b[1m888/888\u001b[0m \u001b[32m━━━━━━━━━━━━━━━━━━━━\u001b[0m\u001b[37m\u001b[0m \u001b[1m837s\u001b[0m 942ms/step - accuracy: 0.8420 - auc: 0.9113 - loss: 0.3774 - precision: 0.2011 - recall: 0.8218 - val_accuracy: 0.7988 - val_auc: 0.9099 - val_loss: 0.4586 - val_precision: 0.1676 - val_recall: 0.8554\n",
            "Epoch 6/7\n",
            "\u001b[1m888/888\u001b[0m \u001b[32m━━━━━━━━━━━━━━━━━━━━\u001b[0m\u001b[37m\u001b[0m \u001b[1m827s\u001b[0m 931ms/step - accuracy: 0.8428 - auc: 0.9162 - loss: 0.3680 - precision: 0.2026 - recall: 0.8272 - val_accuracy: 0.8277 - val_auc: 0.9115 - val_loss: 0.4066 - val_precision: 0.1873 - val_recall: 0.8277\n",
            "Epoch 7/7\n",
            "\u001b[1m888/888\u001b[0m \u001b[32m━━━━━━━━━━━━━━━━━━━━\u001b[0m\u001b[37m\u001b[0m \u001b[1m886s\u001b[0m 996ms/step - accuracy: 0.8450 - auc: 0.9181 - loss: 0.3635 - precision: 0.2050 - recall: 0.8264 - val_accuracy: 0.7585 - val_auc: 0.9123 - val_loss: 0.5266 - val_precision: 0.1473 - val_recall: 0.8923\n"
          ]
        }
      ],
      "source": [
        "history = model.fit(\n",
        "    train_ds,\n",
        "    validation_data=val_ds,\n",
        "    epochs=7,\n",
        "    class_weight=class_weights,\n",
        "    callbacks=[checkpoint_cb]\n",
        ")\n"
      ]
    },
    {
      "cell_type": "code",
      "execution_count": 24,
      "metadata": {},
      "outputs": [],
      "source": [
        "model.save('skin_cancer_classifier_model.keras')"
      ]
    },
    {
      "cell_type": "code",
      "execution_count": 26,
      "metadata": {},
      "outputs": [
        {
          "data": {
            "image/png": "[encoded data removed]",
            "text/plain": [
              "<Figure size 1200x500 with 2 Axes>"
            ]
          },
          "metadata": {},
          "output_type": "display_data"
        }
      ],
      "source": [
        "# --- Plot results ---\n",
        "import matplotlib.pyplot as plt\n",
        "\n",
        "plt.figure(figsize=(12, 5))\n",
        "\n",
        "# Accuracy\n",
        "plt.subplot(1, 2, 1)\n",
        "plt.plot(history.history['accuracy'], label='Train Acc')\n",
        "plt.plot(history.history['val_accuracy'], label='Val Acc')\n",
        "plt.xlabel('Epoch')\n",
        "plt.ylabel('Accuracy')\n",
        "plt.title('Training & Validation Accuracy')\n",
        "plt.legend()\n",
        "\n",
        "# Loss\n",
        "plt.subplot(1, 2, 2)\n",
        "plt.plot(history.history['loss'], label='Train Loss')\n",
        "plt.plot(history.history['val_loss'], label='Val Loss')\n",
        "plt.xlabel('Epoch')\n",
        "plt.ylabel('Loss')\n",
        "plt.title('Training & Validation Loss')\n",
        "plt.legend()\n",
        "\n",
        "plt.show()"
      ]
    }
  ],
  "metadata": {
    "accelerator": "GPU",
    "colab": {
      "gpuType": "T4",
      "include_colab_link": true,
      "provenance": []
    },
    "kernelspec": {
      "display_name": "Python 3",
      "name": "python3"
    },
    "language_info": {
      "codemirror_mode": {
        "name": "ipython",
        "version": 3
      },
      "file_extension": ".py",
      "mimetype": "text/x-python",
      "name": "python",
      "nbconvert_exporter": "python",
      "pygments_lexer": "ipython3",
      "version": "3.11.9"
    }
  },
  "nbformat": 4,
  "nbformat_minor": 0
}
